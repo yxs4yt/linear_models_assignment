{
 "cells": [
  {
   "cell_type": "code",
   "execution_count": null,
   "id": "4273efb5",
   "metadata": {},
   "outputs": [],
   "source": [
    "# Q1 will be submitted in the comments as a link. "
   ]
  },
  {
   "cell_type": "code",
   "execution_count": null,
   "id": "e3d53f8a",
   "metadata": {},
   "outputs": [
    {
     "name": "stdout",
     "output_type": "stream",
     "text": [
      "df.shape:\n",
      "(103, 4) \n",
      "\n",
      "df.dtypes:\n",
      "Unnamed: 0     int64\n",
      "age            int64\n",
      "transplant    object\n",
      "y              int64\n",
      "dtype: object \n",
      "\n",
      "df.columns:\n",
      "Index(['Unnamed: 0', 'age', 'transplant', 'y'], dtype='object') \n",
      "\n"
     ]
    },
    {
     "data": {
      "text/html": [
       "<div>\n",
       "<style scoped>\n",
       "    .dataframe tbody tr th:only-of-type {\n",
       "        vertical-align: middle;\n",
       "    }\n",
       "\n",
       "    .dataframe tbody tr th {\n",
       "        vertical-align: top;\n",
       "    }\n",
       "\n",
       "    .dataframe thead th {\n",
       "        text-align: right;\n",
       "    }\n",
       "</style>\n",
       "<table border=\"1\" class=\"dataframe\">\n",
       "  <thead>\n",
       "    <tr style=\"text-align: right;\">\n",
       "      <th></th>\n",
       "      <th>Unnamed: 0</th>\n",
       "      <th>age</th>\n",
       "      <th>transplant</th>\n",
       "      <th>y</th>\n",
       "    </tr>\n",
       "  </thead>\n",
       "  <tbody>\n",
       "    <tr>\n",
       "      <th>0</th>\n",
       "      <td>1</td>\n",
       "      <td>53</td>\n",
       "      <td>control</td>\n",
       "      <td>0</td>\n",
       "    </tr>\n",
       "    <tr>\n",
       "      <th>1</th>\n",
       "      <td>2</td>\n",
       "      <td>43</td>\n",
       "      <td>control</td>\n",
       "      <td>0</td>\n",
       "    </tr>\n",
       "    <tr>\n",
       "      <th>2</th>\n",
       "      <td>3</td>\n",
       "      <td>52</td>\n",
       "      <td>control</td>\n",
       "      <td>0</td>\n",
       "    </tr>\n",
       "    <tr>\n",
       "      <th>3</th>\n",
       "      <td>4</td>\n",
       "      <td>52</td>\n",
       "      <td>control</td>\n",
       "      <td>0</td>\n",
       "    </tr>\n",
       "    <tr>\n",
       "      <th>4</th>\n",
       "      <td>5</td>\n",
       "      <td>54</td>\n",
       "      <td>control</td>\n",
       "      <td>0</td>\n",
       "    </tr>\n",
       "  </tbody>\n",
       "</table>\n",
       "</div>"
      ],
      "text/plain": [
       "   Unnamed: 0  age transplant  y\n",
       "0           1   53    control  0\n",
       "1           2   43    control  0\n",
       "2           3   52    control  0\n",
       "3           4   52    control  0\n",
       "4           5   54    control  0"
      ]
     },
     "execution_count": 1,
     "metadata": {},
     "output_type": "execute_result"
    }
   ],
   "source": [
    "# Q3. Set Up\n",
    "import numpy as np\n",
    "import matplotlib.pyplot as plt\n",
    "import pandas as pd\n",
    "import seaborn as sns\n",
    "from sklearn.linear_model import LinearRegression \n",
    "from sklearn.preprocessing import LabelBinarizer\n",
    "\n",
    "df = pd.read_csv('data/heart_hw.csv')\n",
    "\n",
    "print(\"df.shape:\")\n",
    "print(df.shape, '\\n')\n",
    "\n",
    "print(\"df.dtypes:\")\n",
    "print(df.dtypes, '\\n')\n",
    "\n",
    "print(\"df.columns:\")\n",
    "print(df.columns, '\\n')\n",
    "\n",
    "df.isna().any()\n",
    "df.head()"
   ]
  },
  {
   "cell_type": "code",
   "execution_count": null,
   "id": "197e9e5e",
   "metadata": {},
   "outputs": [
    {
     "name": "stdout",
     "output_type": "stream",
     "text": [
      "Control group survival rate: 0.11764705882352941\n",
      "Treatment group survival rate: 0.34782608695652173\n",
      "Average Treatment Effect (ATE): 0.23017902813299232\n"
     ]
    }
   ],
   "source": [
    "# Q3, Part 1 \n",
    "\n",
    "df = pd.read_csv('data/heart_hw.csv')\n",
    "\n",
    "# Turn into 0 and 1 for binary indicator \n",
    "df[\"treat\"] = (df[\"transplant\"].str.strip().str.lower() == \"treatment\").astype(int)\n",
    "\n",
    "df['y'] = pd.to_numeric(df['y'], errors='coerce')\n",
    "df = df.dropna(subset=['transplant', 'y']) # Drop missing values\n",
    "\n",
    "p_control = df.loc[df['treat'] == 0, 'y'].mean()\n",
    "p_treatment = df.loc[df['treat'] == 1, 'y'].mean()\n",
    "ate = p_treatment - p_control\n",
    "\n",
    "# Print results (NO f-strings)\n",
    "print(\"Control group survival rate:\", p_control)\n",
    "print(\"Treatment group survival rate:\", p_treatment)\n",
    "print(\"Average Treatment Effect (ATE):\", ate)\n",
    "\n",
    "# Based on the results, those who survived who were in the control that did nbot receive a transplant was 0.1176. Whereas, the difference between those who survived in the treatment and control group is 0.23017. \n"
   ]
  },
  {
   "cell_type": "code",
   "execution_count": null,
   "id": "cc58d555",
   "metadata": {},
   "outputs": [
    {
     "name": "stdout",
     "output_type": "stream",
     "text": [
      "Coefficients:  0.11764705882352941 0.23017902813299232\n"
     ]
    }
   ],
   "source": [
    "# Q3, Part 2\n",
    "import numpy as np\n",
    "import pandas as pd\n",
    "\n",
    "y = df[\"y\"].astype(float)\n",
    "x = df[\"treat\"].astype(float)\n",
    "\n",
    "def slr(x, y):\n",
    "    x_bar = np.mean(x)\n",
    "    y_bar = np.mean(y)\n",
    "    b1 = np.inner(x-x_bar,y-y_bar)/np.inner(x-x_bar,x-x_bar)\n",
    "    b0 = y_bar - b1 * x_bar\n",
    "    y_hat = b0 + b1 * x\n",
    "    residuals = y - y_hat\n",
    "    return {'b0': b0, 'b1': b1, 'y_hat': y_hat, 'residuals': residuals}\n",
    "\n",
    "reg = slr(x, y)\n",
    "\n",
    "print('Coefficients: ',reg['b0'],reg['b1'])\n",
    "\n",
    "# The intercept in the regression model is = to the control group's survival rate, and the coefficient on the transplant variable is = to the ATE. This is because the regression is modeling the binary treatment variable with an intercept. "
   ]
  },
  {
   "cell_type": "code",
   "execution_count": null,
   "id": "ba403b70",
   "metadata": {},
   "outputs": [
    {
     "name": "stdout",
     "output_type": "stream",
     "text": [
      "Age coefficient:  -0.013607217160218649\n",
      "Treatment coefficient:  0.26470168650367504\n",
      "Intercept:  0.7019569721740948 \n",
      "\n"
     ]
    }
   ],
   "source": [
    "# Q3, Part 3 \n",
    "import numpy as np\n",
    "import pandas as pd\n",
    "\n",
    "df = pd.read_csv('data/heart_hw.csv')\n",
    "df[\"treat\"] = (df[\"transplant\"].str.strip().str.lower() == \"treatment\").astype(int)\n",
    "\n",
    "y = df['y'].astype(float)\n",
    "x1 = df['treat'].astype(float)\n",
    "x2 = df['age'].astype(float)\n",
    "\n",
    "def slr(x, y):\n",
    "    x_bar = np.mean(x)\n",
    "    y_bar = np.mean(y)\n",
    "    b1 = np.inner(x-x_bar,y-y_bar)/np.inner(x-x_bar,x-x_bar)\n",
    "    b0 = y_bar - b1 * x_bar\n",
    "    y_hat = b0 + b1 * x\n",
    "    residuals = y - y_hat\n",
    "    return {'b0': b0, 'b1': b1, 'y_hat': y_hat, 'residuals': residuals}\n",
    "\n",
    "reg1_y = slr(x1, y)\n",
    "reg1_2 = slr(x1, x2)\n",
    "\n",
    "y_temp = reg1_y['residuals']\n",
    "x2_temp = reg1_2['residuals']\n",
    "reg_y_x2 = slr(x2_temp, y_temp)\n",
    "print('Age coefficient: ', reg_y_x2['b1'])\n",
    "\n",
    "reg2_y = slr(x2, y)\n",
    "reg2_1 = slr(x2, x1)\n",
    "y_resid = reg2_y['residuals']\n",
    "x1_resid = reg2_1['residuals']\n",
    "reg_y_x1 = slr(x1_resid, y_resid)\n",
    "print('Treatment coefficient: ', reg_y_x1['b1'])\n",
    "\n",
    "b0 = np.mean(y) - reg_y_x1['b1'] * np.mean(x1) - reg_y_x2['b1'] * np.mean(x2)\n",
    "print('Intercept: ', b0, '\\n')\n",
    "\n",
    "# The intercept increased a lot more than in the previous part, largely due to \"age\" variable being added into the regression. \n"
   ]
  },
  {
   "cell_type": "code",
   "execution_count": null,
   "id": "022ad621",
   "metadata": {},
   "outputs": [
    {
     "name": "stdout",
     "output_type": "stream",
     "text": [
      "R-squared:  0.185916448204278\n"
     ]
    },
    {
     "data": {
      "image/png": "[encoded data removed]",
      "text/plain": [
       "<Figure size 700x500 with 1 Axes>"
      ]
     },
     "metadata": {},
     "output_type": "display_data"
    }
   ],
   "source": [
    "#Q3, Part 4\n",
    "from sklearn.linear_model import LinearRegression\n",
    "from sklearn.preprocessing import PolynomialFeatures\n",
    "import numpy as np\n",
    "import pandas as pd\n",
    "\n",
    "\n",
    "expander = PolynomialFeatures(degree=2, include_bias=False)\n",
    "Z = expander.fit_transform(df[[\"age\", \"treat\"]])\n",
    "names = expander.get_feature_names_out([\"age\", \"treat\"])\n",
    "X = pd.DataFrame(Z, columns=names)[[\"age\", \"treat\", \"age^2\", \"age treat\"]]\n",
    "y = df[\"y\"]\n",
    "\n",
    "reg = LinearRegression().fit(X, y)\n",
    "print(\"R-squared: \", reg.score(X, y))\n",
    "\n",
    "Z_control = expander.transform(control[[\"age\", \"treat\"]])\n",
    "Z_treatment  = expander.transform(treatment[[\"age\", \"treat\"]])\n",
    "\n",
    "X_control = pd.DataFrame(Z_control, columns=names)[[\"age\", \"treat\", \"age^2\", \"age treat\"]]\n",
    "X_treatment = pd.DataFrame(Z_treatment,  columns=names)[[\"age\", \"treat\", \"age^2\", \"age treat\"]]\n",
    "\n",
    "p_control = reg.predict(X_control)\n",
    "p_treatment  = reg.predict(X_treatment)\n",
    "\n",
    "p_control = np.clip(p_control, 0.0, 1.0)\n",
    "p_treatment  = np.clip(p_treatment, 0.0, 1.0)\n",
    "\n",
    "plt.figure(figsize=(7,5))\n",
    "plt.plot(ages, p_control, label=\"No Transplant (treat=0)\")\n",
    "plt.plot(ages, p_treatment,  label=\"Transplant (treat=1)\")\n",
    "plt.scatter(df[\"age\"], df[\"y\"], s=10, alpha=0.25, label=\"Observed outcomes\")\n",
    "plt.xlabel(\"Age\")\n",
    "plt.ylabel(\"Predicted 3-Year Survival\")\n",
    "plt.title(\"Model for Nonlinear Age and Age×Treatment Interaction\")\n",
    "plt.legend()\n",
    "plt.tight_layout()\n",
    "plt.show()\n",
    "\n",
    "# Both lines decline with age in a non linear way (curved). Transplant has higher survival rates for younger patients and on average have higher predicted sutvival than non transplant curve. At a certain high age, the number hits 0 meaning there is a level where the survival is slim/ none. "
   ]
  },
  {
   "cell_type": "code",
   "execution_count": null,
   "id": "adf5547a",
   "metadata": {},
   "outputs": [],
   "source": [
    "# Q3, Part 5\n",
    "\n",
    "# In terms of how it is built, there are always bias' with data and this a large concern because there can be socioeconomic/statistical data that may determine who gets a transplant. Something like a major organization that holds lives at risks needs to use a more complex system than just a linear regression model that we saw earlier. It must be include many different facets and account for many different variables than just the three that we worked with. \n",
    "\n",
    "# In terms of how it is distributed, there still needs to be some thresholds and calibrations that are checked byu humans or else there could be mistakes during use that humans may not be aware of which could cause lots of issues. Another issue is what to do with privacy breaches and who gets to see all this private information about people and if it can get distributed wihtin the program. This can be extremely dangerous if the data falls into the wrong hands. "
   ]
  },
  {
   "cell_type": "code",
   "execution_count": null,
   "id": "afd59be4",
   "metadata": {},
   "outputs": [],
   "source": [
    "#Citation:\n",
    "# OpenAI. (2023). ChatGPT (October 5 version) [Large language model]. https://chat.openai.com/chat"
   ]
  }
 ],
 "metadata": {
  "kernelspec": {
   "display_name": "Python 3",
   "language": "python",
   "name": "python3"
  },
  "language_info": {
   "codemirror_mode": {
    "name": "ipython",
    "version": 3
   },
   "file_extension": ".py",
   "mimetype": "text/x-python",
   "name": "python",
   "nbconvert_exporter": "python",
   "pygments_lexer": "ipython3",
   "version": "3.12.1"
  }
 },
 "nbformat": 4,
 "nbformat_minor": 5
}
